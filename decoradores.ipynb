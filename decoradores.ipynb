{
 "cells": [
  {
   "cell_type": "markdown",
   "metadata": {},
   "source": [
    "# Decoradores"
   ]
  },
  {
   "cell_type": "code",
   "execution_count": 2,
   "metadata": {},
   "outputs": [
    {
     "name": "stdout",
     "output_type": "stream",
     "text": [
      "<p>hola que tal?</p>\n"
     ]
    }
   ],
   "source": [
    "# ejemplo sencillito de decorador\n",
    "\n",
    "def deco(func):\n",
    "    '''decorator that wraps a text between a html p tag (HARCODED)'''\n",
    "    def new_func(text):\n",
    "        print(\"<{0}>{1}</{0}>\".format('p', func(text)))\n",
    "    return new_func\n",
    "\n",
    "def printer(text):\n",
    "    return text\n",
    "    \n",
    "    \n",
    "\n",
    "cad = 'hola que tal?'\n",
    "printer = deco(printer)\n",
    "\n",
    "\n",
    "\n",
    "printer(cad)"
   ]
  },
  {
   "cell_type": "code",
   "execution_count": 5,
   "metadata": {},
   "outputs": [
    {
     "name": "stdout",
     "output_type": "stream",
     "text": [
      "<p>hola que tal?</p>\n"
     ]
    }
   ],
   "source": [
    "# aplicando el decorador a una funcion con la '@'\n",
    "\n",
    "def deco(func):\n",
    "    '''decorator that wraps a text between a html p tag (HARCODED)'''\n",
    "    def new_func(text):\n",
    "        print(\"<{0}>{1}</{0}>\".format('p', func(text)))\n",
    "    return new_func\n",
    "\n",
    "\n",
    "@deco\n",
    "def printer(text):\n",
    "    return text\n",
    "    \n",
    "    \n",
    "\n",
    "cad = 'hola que tal?'\n",
    "\n",
    "\n",
    "printer(cad)"
   ]
  },
  {
   "cell_type": "code",
   "execution_count": 6,
   "metadata": {},
   "outputs": [
    {
     "name": "stdout",
     "output_type": "stream",
     "text": [
      "<h1>hola que tal?</h1>\n"
     ]
    }
   ],
   "source": [
    "#decorador con argumentos\n",
    "\n",
    "def tag_it(tag='p'):\n",
    "    def deco(func):\n",
    "        '''decorator that wraps a text between a html tag'''\n",
    "        def new_func(text):\n",
    "            print(\"<{0}>{1}</{0}>\".format(tag, func(text)))\n",
    "        return new_func\n",
    "    return deco\n",
    "\n",
    "\n",
    "def printer(text):\n",
    "    return text\n",
    "\n",
    "cad = 'hola que tal?'\n",
    "\n",
    "#printer tiene la funcion decorada, lista para ejecutar printer con el decorador\n",
    "printer = tag_it('h1')(printer)\n",
    "\n",
    "#invocamos a la funcion decorada\n",
    "printer(cad)"
   ]
  },
  {
   "cell_type": "code",
   "execution_count": 8,
   "metadata": {},
   "outputs": [
    {
     "name": "stdout",
     "output_type": "stream",
     "text": [
      "<h3>hola que tal?</h3>\n"
     ]
    }
   ],
   "source": [
    "#decorador con argumentos y @\n",
    "\n",
    "def tag_it(tag='p'):\n",
    "    def deco(func):\n",
    "        '''decorator that wraps a text between a html tag'''\n",
    "        def new_func(text):\n",
    "            print(\"<{0}>{1}</{0}>\".format(tag, text))\n",
    "        return new_func\n",
    "    return deco\n",
    "\n",
    "\n",
    "@tag_it('h3')\n",
    "def printer(text):\n",
    "    print(text)\n",
    "    \n",
    "    \n",
    "cad = 'hola que tal?'\n",
    "\n",
    "\n",
    "printer(cad)"
   ]
  },
  {
   "cell_type": "markdown",
   "metadata": {},
   "source": [
    "### Decorador con el decorador \"wraps\"\n",
    "#### preserva el nombre de la función decorada"
   ]
  },
  {
   "cell_type": "code",
   "execution_count": null,
   "metadata": {
    "collapsed": true
   },
   "outputs": [],
   "source": [
    "# Decorators\n",
    "# https://github.com/CoreyMSchafer/code_snippets/blob/master/Decorators/decorators.py\n",
    "\n",
    "from functools import wraps\n",
    "\n",
    "\n",
    "def my_logger(orig_func):\n",
    "    import logging\n",
    "    logging.basicConfig(filename='{}.log'\n",
    "                        .format(orig_func.__name__), level=logging.INFO)\n",
    "\n",
    "    #incluyendo el decorador \"wraps\" nos preserva el nombre original de nuestra funcion\n",
    "    #si no lo usamos, la funcion original decorada tomaria el nombre de \"wrapper\"\n",
    "    @wraps(orig_func)\n",
    "    def wrapper(*args, **kwargs):\n",
    "        logging.info(\n",
    "            '{} Ran with args: {}, and kwargs: {}'\n",
    "            .format(orig_func.__name__, args, kwargs))\n",
    "        return orig_func(*args, **kwargs)\n",
    "\n",
    "    return wrapper\n",
    "\n",
    "\n",
    "def my_timer(orig_func):\n",
    "    import time\n",
    "\n",
    "    @wraps(orig_func)\n",
    "    def wrapper(*args, **kwargs):\n",
    "        t1 = time.time()\n",
    "        result = orig_func(*args, **kwargs)\n",
    "        t2 = time.time() - t1\n",
    "        print('{} ran in: {} sec'.format(orig_func.__name__, t2))\n",
    "        return result\n",
    "\n",
    "    return wrapper\n",
    "\n",
    "import time\n",
    "\n",
    "\n",
    "@my_logger\n",
    "@my_timer\n",
    "def display_info(name, age, location='Por allaaaaa'):\n",
    "    time.sleep(1)\n",
    "    print('display_info ran with arguments ({}, {}, {})'.format(name, age, location))\n",
    "\n",
    "#para concatenar los decoradores, podemos hacer:\n",
    "# display_info = my_logger(my_timer(display_info))\n",
    "\n",
    "#como utilizamos el decorador \"wraps\" para nuestros decoradores\n",
    "#el orden de como apilemos nuestros decoradores sobre la funcion a decorar no importa\n",
    "display_info = my_timer(my_logger(display_info))\n",
    "    \n",
    "display_info('Luciano', 20)"
   ]
  },
  {
   "cell_type": "markdown",
   "metadata": {},
   "source": [
    "### Memoization con decoradores"
   ]
  },
  {
   "cell_type": "code",
   "execution_count": null,
   "metadata": {
    "collapsed": true
   },
   "outputs": [],
   "source": [
    "import random\n",
    "\n",
    "def memo_it(original_func):\n",
    "    cache = {}\n",
    "    @wraps(original_func)\n",
    "    def wrapper(*args):\n",
    "        if args in cache:\n",
    "            return cache[args]\n",
    "        result = original_func(*args)\n",
    "        cache[args] = result\n",
    "        return result\n",
    "    return wrapper\n",
    "\n",
    "\n",
    "def fibo(n):\n",
    "    if n < 0: \n",
    "        return 0\n",
    "    elif n == 0 or n == 1:\n",
    "        return n\n",
    "    return fibo(n-1) + fibo(n-2)\n",
    "\n",
    "@my_timer\n",
    "def test_fibo(func):\n",
    "    for n in range(1, 10):\n",
    "        func(random.randint(1, 25))\n",
    "\n",
    "\n",
    "for x in range(1, 10):\n",
    "    test_fibo(fibo)\n",
    "    \n",
    "print()\n",
    "\n",
    "fibo_deco = memo_it(fibo)\n",
    "for x in range(1, 10):\n",
    "    test_fibo(fibo_deco)\n"
   ]
  },
  {
   "cell_type": "markdown",
   "metadata": {},
   "source": [
    "![Wonka](images/wonka.jpg)"
   ]
  },
  {
   "cell_type": "markdown",
   "metadata": {
    "collapsed": true
   },
   "source": [
    "# cor.to/meetup-pd"
   ]
  },
  {
   "cell_type": "code",
   "execution_count": null,
   "metadata": {
    "collapsed": true
   },
   "outputs": [],
   "source": []
  }
 ],
 "metadata": {
  "kernelspec": {
   "display_name": "Python 3",
   "language": "python",
   "name": "python3"
  },
  "language_info": {
   "codemirror_mode": {
    "name": "ipython",
    "version": 3
   },
   "file_extension": ".py",
   "mimetype": "text/x-python",
   "name": "python",
   "nbconvert_exporter": "python",
   "pygments_lexer": "ipython3",
   "version": "3.6.1"
  }
 },
 "nbformat": 4,
 "nbformat_minor": 2
}
