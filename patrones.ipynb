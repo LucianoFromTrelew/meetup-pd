{
 "cells": [
  {
   "cell_type": "markdown",
   "metadata": {},
   "source": [
    "# Patrones de diseño en Python\n",
    "## Introducción a los patrones de diseño y qué herramientas brinda Python para implementarlos\n",
    "\n",
    "---\n",
    "\n",
    "### Luciano Serruya Aloisi\n",
    "#### 30 de Septiembre, 2017\n",
    "\n",
    "***"
   ]
  },
  {
   "cell_type": "markdown",
   "metadata": {},
   "source": [
    "##### Según GoF, un _Patrón de Diseño_ se define como:\n",
    "\n",
    "> _Descripciones de clases y objetos relacionados que están particularizados para resolver un problema de diseño general en un determinado contexto_\n",
    "\n",
    "***"
   ]
  },
  {
   "cell_type": "markdown",
   "metadata": {},
   "source": [
    "***\n",
    ">_Each pattern describes a problem which occurs over and\n",
    "over again in our environment, and then describes the core of the solution to that\n",
    "problem, in such a way that you can use this solution a million times over, without ever\n",
    "doing it the same way twice_\n",
    "\n",
    "_Christopher Alexander, Sara Ishikawa, Murray Silverstein, Max Jacobson,\n",
    "Ingrid Fiksdahl-King, and Shlomo Angel. A Pattern Language. Oxford\n",
    "University Press, New York, 1977._"
   ]
  },
  {
   "cell_type": "markdown",
   "metadata": {
    "collapsed": true
   },
   "source": [
    "Incorporar las clases de PD (Estructurales, Creacionales, Comportamiento)\n",
    "\n",
    "Hablar sobre First-class objects, Closures, y capaz que bounded y unbounded methods \n",
    "(aunque los unbounded methods no existen más en Python3, ahora son funciones)\n",
    "\n",
    "Poner un PD de cada clase\n",
    "Agregar memes obvio"
   ]
  },
  {
   "cell_type": "markdown",
   "metadata": {},
   "source": [
    "### GoF organiza los patrones por _propósito_, y por _alcance_"
   ]
  },
  {
   "cell_type": "markdown",
   "metadata": {},
   "source": [
    "### Categorías por _propósito_\n",
    "* Creacionales: se encargan de la instanciación de objetos\n",
    "* Comportamiento: caracterizan las formas en que los objetos y las clases interactúan entre sí y cómo distribuyen la responsabilidad\n",
    "* Estructurales: se encargan de cómo se componen las clases y los objetos"
   ]
  },
  {
   "cell_type": "markdown",
   "metadata": {},
   "source": [
    "### Categorías por _alcance_\n",
    "* Clase: especifican relaciones entre clases y sus clases hijas. Relación estática a través de la **herencia**\n",
    "* Objeto: especifican relaciones entre objetos, dichos objetos pueden ser cambiados en tiempo de ejecución. Resultados más dinámicos a través de la **composición** y **delegación**"
   ]
  },
  {
   "cell_type": "markdown",
   "metadata": {
    "collapsed": true
   },
   "source": [
    "## Conceptos de Python"
   ]
  },
  {
   "cell_type": "markdown",
   "metadata": {},
   "source": [
    "### Todo es un objeto\n",
    "* Todos los objetos en Python son *objetos de primera clase* (*first-class objects*)\n",
    "\n",
    "> In programming language design, a first-class citizen (also type, object, entity, or value) in a given programming language is an entity which supports all the operations generally available to other entities. These operations typically include being passed as an argument, returned from a function, modified, and assigned to a variable.\n",
    "\n",
    "[First-class citizen](https://en.wikipedia.org/wiki/First-class_citizen)\n",
    "\n",
    "### Closures\n",
    "* Una *clausura* (*closure*) es un objeto función que incluye tanto su código como su ambiente (*scope*) en el cual fue declarado\n",
    "\n",
    "\n",
    "[Closure](http://www.bogotobogo.com/python/python_closure.php)"
   ]
  },
  {
   "cell_type": "code",
   "execution_count": 2,
   "metadata": {},
   "outputs": [
    {
     "name": "stdout",
     "output_type": "stream",
     "text": [
      "lista = [1, 2, 3, 4, 5, 6, 7, 8, 9]\n",
      "cuadrados = [1, 4, 9, 16, 25, 36, 49, 64, 81]\n"
     ]
    }
   ],
   "source": [
    "def my_map(func, l):\n",
    "    \"\"\"Aplica una función a todos los elementos de una lista\"\"\"\n",
    "    ret = list()\n",
    "    for x in l:\n",
    "        ret.append(func(x))\n",
    "    return ret\n",
    "\n",
    "def square(x):\n",
    "    \"\"\"Devuelve el cuadrado de un número\"\"\"\n",
    "    return x*x\n",
    "\n",
    "# Números entre 1 y 10\n",
    "lista = list(range(1,10))\n",
    "\n",
    "print(\"lista = {}\".format(lista))\n",
    "\n",
    "# Conseguimos una nueva lista con todos los valores de 'lista' elevados al cuadrado\n",
    "# Le pasamos a 'my_map' el objeto función 'square'\n",
    "cuadrados = my_map(square, lista)\n",
    "\n",
    "print(\"cuadrados = {}\".format(cuadrados))"
   ]
  },
  {
   "cell_type": "code",
   "execution_count": 1,
   "metadata": {},
   "outputs": [
    {
     "name": "stdout",
     "output_type": "stream",
     "text": [
      "lista = [1, 2, 3, 4, 5, 6, 7, 8, 9]\n",
      "cuadrados = [1, 4, 9, 16, 25, 36, 49, 64, 81]\n"
     ]
    }
   ],
   "source": [
    "def my_map(func, l):\n",
    "    \"\"\"Aplica una función a todos los elementos de una lista\"\"\"\n",
    "    return [func(x) for x in l]\n",
    "\n",
    "# Números entre 1 y 10\n",
    "lista = list(range(1,10))\n",
    "\n",
    "print(\"lista = {}\".format(lista))\n",
    "\n",
    "# Conseguimos una nueva lista con todos los valores de 'lista' elevados al cuadrado\n",
    "# Le pasamos a 'my_map' un objeto definido en la invocacion de la funcion\n",
    "cuadrados = my_map(lambda x: x*x, lista)\n",
    "\n",
    "print(\"cuadrados = {}\".format(cuadrados))"
   ]
  },
  {
   "cell_type": "markdown",
   "metadata": {},
   "source": [
    "### Patrones creacionales"
   ]
  },
  {
   "cell_type": "markdown",
   "metadata": {},
   "source": [
    "#### Borg (monoestado)\n",
    "Implementa un comportamiento *Singleton* (una única instancia de una clase). Instancia objetos distintos pero todos comparten el mismo estado\n",
    "\n",
    "Fuente: [Borg](https://github.com/faif/python-patterns/blob/master/creational/borg.py)"
   ]
  },
  {
   "cell_type": "code",
   "execution_count": 18,
   "metadata": {},
   "outputs": [
    {
     "name": "stdout",
     "output_type": "stream",
     "text": [
      "ID rm1: 140697360973216\n",
      "ID rm2: 140697360973384\n",
      "rm1: Idle\n",
      "rm2: Idle\n",
      "rm1: Running\n",
      "rm2: Running\n",
      "rm1: Zombie\n",
      "rm2: Zombie\n",
      "{'state': 'Zombie'}\n",
      "{'state': 'Zombie'}\n"
     ]
    }
   ],
   "source": [
    "class Borg(object):\n",
    "    \n",
    "    #diccionario que contiene todos los atributos del objeto.\n",
    "    __shared_state = {}\n",
    "\n",
    "    def __init__(self):\n",
    "        #los miembros de datos de un objeto los podemos ver o manipular a través del atributo \"__dict__\"\n",
    "        \n",
    "        #a la nueva instancia que inicializamos, le asignamos a su diccionario propio, el diccionario compartido\n",
    "        #cualquier modificación que se haga el objeto a sus atributos, se reflejará en todos las otras instancias\n",
    "        self.__dict__ = self.__shared_state\n",
    "        self.state = 'Init'\n",
    "\n",
    "    def __str__(self):\n",
    "        return self.state\n",
    "    \n",
    "    def show(self):\n",
    "        print(self.__dict__)\n",
    "\n",
    "\n",
    "rm1 = Borg()\n",
    "rm2 = Borg()\n",
    "\n",
    "#el id de un objeto es el dato que lo hace único a cada objeto\n",
    "print('ID rm1: {0}'.format(id(rm1)))\n",
    "print('ID rm2: {0}'.format(id(rm2)))\n",
    "\n",
    "rm1.state = 'Idle'\n",
    "print('rm1: {0}'.format(rm1))\n",
    "print('rm2: {0}'.format(rm2))\n",
    "\n",
    "\n",
    "rm2.state = 'Running'\n",
    "print('rm1: {0}'.format(rm1))\n",
    "print('rm2: {0}'.format(rm2))\n",
    "\n",
    "\n",
    "rm2.state = 'Zombie'\n",
    "print('rm1: {0}'.format(rm1))\n",
    "print('rm2: {0}'.format(rm2))\n",
    "\n",
    "rm1.show()\n",
    "rm2.show()"
   ]
  },
  {
   "cell_type": "markdown",
   "metadata": {},
   "source": [
    "#### Factory\n",
    "Define una nueva interfaz para instanciar objetos. Evita invocar al constructor del objeto directamente.\n",
    "\n",
    "Fuente: [Factory](https://github.com/faif/python-patterns/blob/master/creational/factory_method.py)"
   ]
  },
  {
   "cell_type": "markdown",
   "metadata": {},
   "source": [
    "#### Fábrica como función"
   ]
  },
  {
   "cell_type": "code",
   "execution_count": 11,
   "metadata": {},
   "outputs": [
    {
     "name": "stdout",
     "output_type": "stream",
     "text": [
      "dog -> σκύλος\n",
      "parrot -> parrot\n",
      "cat -> γάτα\n",
      "bear -> bear\n"
     ]
    }
   ],
   "source": [
    "class GreekGetter(object):\n",
    "\n",
    "    \"\"\"A simple localizer a la gettext\"\"\"\n",
    "\n",
    "    def __init__(self):\n",
    "        self.trans = dict(dog=\"σκύλος\", cat=\"γάτα\")\n",
    "\n",
    "    def get(self, msgid):\n",
    "        \"\"\"We'll punt if we don't have a translation\"\"\"\n",
    "        return self.trans.get(msgid, str(msgid))\n",
    "\n",
    "\n",
    "class EnglishGetter(object):\n",
    "\n",
    "    \"\"\"Simply echoes the msg ids\"\"\"\n",
    "\n",
    "    def get(self, msgid):\n",
    "        return str(msgid)\n",
    "\n",
    "\n",
    "def get_localizer(language=\"English\"):\n",
    "    \"\"\"The factory method\"\"\"\n",
    "    languages = dict(English=EnglishGetter, Greek=GreekGetter)\n",
    "    return languages[language]()\n",
    "\n",
    "\n",
    "# Create our localizers\n",
    "e, g = get_localizer(language=\"English\"), get_localizer(language=\"Greek\")\n",
    "# Localize some text\n",
    "for msgid in \"dog parrot cat bear\".split():\n",
    "    print(\"{} -> {}\".format(e.get(msgid), g.get(msgid)))"
   ]
  },
  {
   "cell_type": "markdown",
   "metadata": {
    "collapsed": true
   },
   "source": [
    "#### Fábrica como clase\n",
    "\n",
    "También podríamos ocultar la definición de las clases que crea la fábrica dentro de la clase/función fábrica; de esta manera ocultamos las clases que instancia la fábrica a sus clientes.\n",
    "\n",
    "[Fábrica como clase](https://github.com/gennad/Design-Patterns-in-Python/blob/master/factory.py)"
   ]
  },
  {
   "cell_type": "code",
   "execution_count": 7,
   "metadata": {},
   "outputs": [
    {
     "name": "stdout",
     "output_type": "stream",
     "text": [
      "Price of HamMushroom is 8.5\n",
      "Price of Deluxe is 10.5\n",
      "Price of Hawaiian is 11.5\n"
     ]
    }
   ],
   "source": [
    "class Pizza(object):\n",
    "    def __init__(self):\n",
    "        self._price = None\n",
    "\n",
    "    def get_price(self):\n",
    "        return self._price\n",
    "\n",
    "class HamAndMushroomPizza(Pizza):\n",
    "    def __init__(self):\n",
    "        self._price = 8.5\n",
    "\n",
    "class DeluxePizza(Pizza):\n",
    "    def __init__(self):\n",
    "        self._price = 10.5\n",
    "\n",
    "class HawaiianPizza(Pizza):\n",
    "    def __init__(self):\n",
    "        self._price = 11.5\n",
    "\n",
    "class PizzaFactory(object):\n",
    "    @staticmethod\n",
    "    def create_pizza(pizza_type):\n",
    "        if pizza_type == 'HamMushroom':\n",
    "            return HamAndMushroomPizza()\n",
    "        elif pizza_type == 'Deluxe':\n",
    "            return DeluxePizza()\n",
    "        elif pizza_type == 'Hawaiian':\n",
    "            return HawaiianPizza()\n",
    "\n",
    "pizzas = ('HamMushroom', 'Deluxe', 'Hawaiian')\n",
    "for pizza_type in pizzas:\n",
    "      print('Price of {0} is {1}'.format(pizza_type, PizzaFactory.create_pizza(pizza_type).get_price()))"
   ]
  },
  {
   "cell_type": "markdown",
   "metadata": {},
   "source": [
    "#### Fábrica abstracta\n",
    "El objeto que utiliza la fábrica recibe una fábrica en el constructor.\n",
    "\n",
    "Podemos tener distintas instancias que utilicen distintas fábricas según su comportamiento, o cambiar dichas fábricas en tiempo de ejecución.\n",
    "\n",
    "[Fábrica abstracta](http://python-3-patterns-idioms-test.readthedocs.io/en/latest/Factory.html)"
   ]
  },
  {
   "cell_type": "code",
   "execution_count": 13,
   "metadata": {},
   "outputs": [
    {
     "name": "stdout",
     "output_type": "stream",
     "text": [
      "Kitty has encountered a Puzzle\n",
      "KungFuGuy now battles a NastyWeapon\n"
     ]
    }
   ],
   "source": [
    "# Factory/Games.py\n",
    "# An example of the Abstract Factory pattern.\n",
    "\n",
    "class Obstacle:\n",
    "    def action(self): pass\n",
    "\n",
    "class Character:\n",
    "    def interactWith(self, obstacle): pass\n",
    "\n",
    "class Kitty(Character):\n",
    "    def interactWith(self, obstacle):\n",
    "        print(\"Kitty has encountered a {}\".format(obstacle.action()))\n",
    "\n",
    "class KungFuGuy(Character):\n",
    "    def interactWith(self, obstacle):\n",
    "        print(\"KungFuGuy now battles a {}\".format(obstacle.action()))\n",
    "\n",
    "class Puzzle(Obstacle):\n",
    "    def action(self):\n",
    "        return \"Puzzle\"\n",
    "\n",
    "class NastyWeapon(Obstacle):\n",
    "    def action(self):\n",
    "        return \"NastyWeapon\"\n",
    "\n",
    "# The Abstract Factory:\n",
    "class GameElementFactory:\n",
    "    def makeCharacter(self): pass\n",
    "    def makeObstacle(self): pass\n",
    "\n",
    "# Concrete factories:\n",
    "class KittiesAndPuzzles(GameElementFactory):\n",
    "    def makeCharacter(self): return Kitty()\n",
    "    def makeObstacle(self): return Puzzle()\n",
    "\n",
    "class KillAndDismember(GameElementFactory):\n",
    "    def makeCharacter(self): return KungFuGuy()\n",
    "    def makeObstacle(self): return NastyWeapon()\n",
    "\n",
    "class GameEnvironment:\n",
    "    def __init__(self, factory):\n",
    "        self.factory = factory\n",
    "        self.p = self.factory.makeCharacter()\n",
    "        self.ob = self.factory.makeObstacle()\n",
    "    def play(self):\n",
    "        self.p.interactWith(self.ob)\n",
    "\n",
    "g1 = GameEnvironment(KittiesAndPuzzles())\n",
    "g2 = GameEnvironment(KillAndDismember())\n",
    "g1.play()\n",
    "g2.play()\n"
   ]
  },
  {
   "cell_type": "code",
   "execution_count": null,
   "metadata": {
    "collapsed": true
   },
   "outputs": [],
   "source": []
  },
  {
   "cell_type": "code",
   "execution_count": null,
   "metadata": {
    "collapsed": true
   },
   "outputs": [],
   "source": []
  },
  {
   "cell_type": "code",
   "execution_count": null,
   "metadata": {
    "collapsed": true
   },
   "outputs": [],
   "source": []
  },
  {
   "cell_type": "code",
   "execution_count": 27,
   "metadata": {},
   "outputs": [
    {
     "name": "stdout",
     "output_type": "stream",
     "text": [
      "PROXY CHECKING FOR SALES MANAGER AVAILABILITY\n",
      "Sales Manager ready to talk\n",
      "PROXY CHECKING FOR SALES MANAGER AVAILABILITY\n",
      "Sales Manager is busy\n",
      "\n",
      "Is COSO busy? => No\n",
      "\n",
      "PROXY CHECKING FOR SALES MANAGER AVAILABILITY\n",
      "This Sales Manager will not talk to you whether he/she is busy or not\n",
      "\n",
      "Is COSO busy? => Yes\n",
      "\n",
      "PROXY CHECKING FOR SALES MANAGER AVAILABILITY\n",
      "This Sales Manager will not talk to you whether he/she is busy or not\n"
     ]
    }
   ],
   "source": [
    "#!/usr/bin/env python\n",
    "# -*- coding: utf-8 -*-\n",
    "from __future__ import print_function\n",
    "import time\n",
    "\n",
    "\n",
    "class SalesManager:\n",
    "    def talk(self):\n",
    "        print(\"Sales Manager ready to talk\")\n",
    "\n",
    "\n",
    "class Proxy:\n",
    "    def __init__(self):\n",
    "        self.busy = 'No'\n",
    "        self.sales_manager = None\n",
    "\n",
    "    def talk(self):\n",
    "        print(\"PROXY CHECKING FOR SALES MANAGER AVAILABILITY\")\n",
    "        if self.busy == 'No':\n",
    "            self.sales_manager = SalesManager()\n",
    "            time.sleep(0.1)\n",
    "            self.sales_manager.talk()\n",
    "        else:\n",
    "            time.sleep(0.1)\n",
    "            print(\"Sales Manager is busy\")\n",
    "\n",
    "\n",
    "class NoTalkProxy(Proxy):\n",
    "    def talk(self):\n",
    "        print(\"PROXY CHECKING FOR SALES MANAGER AVAILABILITY\")\n",
    "        time.sleep(0.1)\n",
    "        print(\"This Sales Manager will not talk to you\",\n",
    "              \"whether he/she is busy or not\")\n",
    "\n",
    "\n",
    "p = Proxy()\n",
    "p.talk()\n",
    "p.busy = 'Yes'\n",
    "p.talk()\n",
    "\n",
    "\n",
    "p = NoTalkProxy()\n",
    "p.talk()\n",
    "p.busy = 'Yes'\n",
    "p.talk()"
   ]
  },
  {
   "cell_type": "markdown",
   "metadata": {
    "collapsed": true
   },
   "source": [
    "## Implementado ITERADORES"
   ]
  },
  {
   "cell_type": "code",
   "execution_count": 30,
   "metadata": {},
   "outputs": [
    {
     "name": "stdout",
     "output_type": "stream",
     "text": [
      "juan\n",
      "pedro\n",
      "pepe\n",
      "luciano\n",
      "pablo\n"
     ]
    }
   ],
   "source": [
    "class Colectivo:\n",
    "    def __init__(self, max_pj):\n",
    "        self._cant_pasajeros = 0\n",
    "        self._max_pasajeros = max_pj\n",
    "        self._pasajeros = list()\n",
    "        self.__cont = 0\n",
    "        \n",
    "    def __iter__(self):\n",
    "        return self\n",
    "    \n",
    "    def set_pasajeros(self, pasajeros):\n",
    "        self._pasajeros = pasajeros\n",
    "        self._cant_pasajeros = len(pasajeros)\n",
    "        \n",
    "    def __next__(self):\n",
    "        if self.__cont == self._cant_pasajeros:\n",
    "            self.__cont = 0\n",
    "            raise StopIteration()\n",
    "            \n",
    "        self.__cont += 1\n",
    "        return self._pasajeros[self.__cont - 1]    \n",
    "            \n",
    "cole = Colectivo(10)\n",
    "\n",
    "pasajeros = [\"juan\", 'pedro', 'pepe', 'luciano', 'pablo']\n",
    "\n",
    "cole.set_pasajeros(pasajeros)\n",
    "# next(cole)\n",
    "\n",
    "for p in cole:\n",
    "    print(p)\n",
    "\n",
    "it = iter(cole)\n",
    "\n",
    "# for p in cole:\n",
    "#     print(p)\n",
    "\n"
   ]
  },
  {
   "cell_type": "code",
   "execution_count": 29,
   "metadata": {},
   "outputs": [
    {
     "name": "stdout",
     "output_type": "stream",
     "text": [
      "juan\n",
      "pedro\n",
      "pepe\n",
      "luciano\n",
      "pablo\n"
     ]
    }
   ],
   "source": [
    "class Colectivo:\n",
    "    def __init__(self, max_pj):\n",
    "        self._cant_pasajeros = 0\n",
    "        self._max_pasajeros = max_pj\n",
    "        self._pasajeros = list()\n",
    "        self.__cont = 0\n",
    "        \n",
    "    \n",
    "    def set_pasajeros(self, pasajeros):\n",
    "        self._pasajeros = pasajeros\n",
    "        self._cant_pasajeros = len(pasajeros)\n",
    "        \n",
    "        \n",
    "    def __iter__(self):\n",
    "        return iter(self._pasajeros)\n",
    "    \n",
    "    #como el colectivo devuelve el iterador de la lista, el metodo __next__ esta demas en la clase Colectivo\n",
    "#     def __next__(self):\n",
    "#         if self.__cont < self._cant_pasajeros:\n",
    "#             self.__cont += 1\n",
    "#             return self._pasajeros[self.__cont - 1]\n",
    "#         else:\n",
    "#             self.__cont = 0\n",
    "#             raise StopIteration()\n",
    "            \n",
    "            \n",
    "cole = Colectivo(10)\n",
    "\n",
    "pasajeros = [\"juan\", 'pedro', 'pepe', 'luciano', 'pablo']\n",
    "\n",
    "cole.set_pasajeros(pasajeros)\n",
    "\n",
    "\n",
    "for p in cole:\n",
    "    print(p)"
   ]
  },
  {
   "cell_type": "code",
   "execution_count": null,
   "metadata": {
    "collapsed": true
   },
   "outputs": [],
   "source": []
  }
 ],
 "metadata": {
  "kernelspec": {
   "display_name": "Python 3",
   "language": "python",
   "name": "python3"
  },
  "language_info": {
   "codemirror_mode": {
    "name": "ipython",
    "version": 3
   },
   "file_extension": ".py",
   "mimetype": "text/x-python",
   "name": "python",
   "nbconvert_exporter": "python",
   "pygments_lexer": "ipython3",
   "version": "3.6.1"
  }
 },
 "nbformat": 4,
 "nbformat_minor": 2
}
