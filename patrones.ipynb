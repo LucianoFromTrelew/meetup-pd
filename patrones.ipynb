{
 "cells": [
  {
   "cell_type": "markdown",
   "metadata": {},
   "source": [
    "# Patrones de diseño en Python\n",
    "## Introducción a los patrones de diseño y qué herramientas brinda Python para implementarlos\n",
    "\n",
    "---\n",
    "\n",
    "### Luciano Serruya Aloisi\n",
    "#### 30 de Septiembre, 2017\n",
    "\n",
    "***"
   ]
  },
  {
   "cell_type": "markdown",
   "metadata": {},
   "source": [
    "##### Según GoF, un _Patrón de Diseño_ se define como:\n",
    "\n",
    "> _Descripciones de clases y objetos relacionados que están particularizados para resolver un problema de diseño general en un determinado contexto_\n",
    "\n",
    "***"
   ]
  },
  {
   "cell_type": "markdown",
   "metadata": {},
   "source": [
    "***\n",
    ">_Each pattern describes a problem which occurs over and\n",
    "over again in our environment, and then describes the core of the solution to that\n",
    "problem, in such a way that you can use this solution a million times over, without ever\n",
    "doing it the same way twice_\n",
    "\n",
    "_Christopher Alexander, Sara Ishikawa, Murray Silverstein, Max Jacobson,\n",
    "Ingrid Fiksdahl-King, and Shlomo Angel. A Pattern Language. Oxford\n",
    "University Press, New York, 1977._"
   ]
  },
  {
   "cell_type": "markdown",
   "metadata": {
    "collapsed": true
   },
   "source": [
    "### Incorporar las clases de PD (Estructurales, Creacionales, Comportamiento)\n",
    "### Hablar sobre First-class objects, Closures, y capaz que bounded y unbounded methods \n",
    "##### (aunque los unbounded methods no existen más en Python3, ahora son funciones)\n",
    "\n",
    "### Poner un PD de cada clase\n",
    "### Agregar memes obvio"
   ]
  },
  {
   "cell_type": "markdown",
   "metadata": {},
   "source": [
    "### GoF organiza los patrones por _propósito_, y por _alcance_"
   ]
  },
  {
   "cell_type": "markdown",
   "metadata": {},
   "source": [
    "### Categorías por _propósito_\n",
    "* Creacionales: se encargan de la instanciación de objetos\n",
    "* Comportamiento: caracterizan las formas en que los objetos y las clases interactúan entre sí y cómo distribuyen la responsabilidad\n",
    "* Estructurales: se encargan de cómo se componen las clases y los objetos\n",
    "***"
   ]
  },
  {
   "cell_type": "markdown",
   "metadata": {},
   "source": [
    "***\n",
    "### Categorías por _alcance_\n",
    "* Clase: especifican relaciones entre clases y sus clases hijas. Relación estática a través de la **herencia**\n",
    "* Objeto: especifican relaciones entre objetos, dichos objetos pueden ser cambiados en tiempo de ejecución. Resultados más dinámicos a través de la **composición** y **delegación**"
   ]
  },
  {
   "cell_type": "markdown",
   "metadata": {},
   "source": []
  },
  {
   "cell_type": "markdown",
   "metadata": {},
   "source": [
    "- [x] Finish my changes\n"
   ]
  },
  {
   "cell_type": "code",
   "execution_count": null,
   "metadata": {
    "collapsed": true
   },
   "outputs": [],
   "source": []
  }
 ],
 "metadata": {
  "kernelspec": {
   "display_name": "Python 3",
   "language": "python",
   "name": "python3"
  },
  "language_info": {
   "codemirror_mode": {
    "name": "ipython",
    "version": 3
   },
   "file_extension": ".py",
   "mimetype": "text/x-python",
   "name": "python",
   "nbconvert_exporter": "python",
   "pygments_lexer": "ipython3",
   "version": "3.6.1"
  }
 },
 "nbformat": 4,
 "nbformat_minor": 2
}
