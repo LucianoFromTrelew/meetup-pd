{
 "cells": [
  {
   "cell_type": "markdown",
   "metadata": {},
   "source": [
    "# Patrones de diseño en Python\n",
    "## Introducción a los patrones de diseño y qué herramientas brinda Python para implementarlos\n",
    "\n",
    "---\n",
    "\n",
    "### Luciano Serruya Aloisi\n",
    "#### 30 de Septiembre, 2017\n",
    "\n",
    "***"
   ]
  },
  {
   "cell_type": "markdown",
   "metadata": {},
   "source": [
    "##### Según GoF, un _Patrón de Diseño_ se define como:\n",
    "\n",
    "> _Descripciones de clases y objetos relacionados que están particularizados para resolver un problema de diseño general en un determinado contexto_\n",
    "\n",
    "***"
   ]
  },
  {
   "cell_type": "markdown",
   "metadata": {},
   "source": [
    "***\n",
    ">_Each pattern describes a problem which occurs over and\n",
    "over again in our environment, and then describes the core of the solution to that\n",
    "problem, in such a way that you can use this solution a million times over, without ever\n",
    "doing it the same way twice_\n",
    "\n",
    "_Christopher Alexander, Sara Ishikawa, Murray Silverstein, Max Jacobson,\n",
    "Ingrid Fiksdahl-King, and Shlomo Angel. A Pattern Language. Oxford\n",
    "University Press, New York, 1977._"
   ]
  },
  {
   "cell_type": "markdown",
   "metadata": {
    "collapsed": true
   },
   "source": [
    "Incorporar las clases de PD (Estructurales, Creacionales, Comportamiento)\n",
    "\n",
    "Hablar sobre First-class objects, Closures, y capaz que bounded y unbounded methods \n",
    "(aunque los unbounded methods no existen más en Python3, ahora son funciones)\n",
    "\n",
    "Poner un PD de cada clase\n",
    "Agregar memes obvio"
   ]
  },
  {
   "cell_type": "markdown",
   "metadata": {},
   "source": [
    "### GoF organiza los patrones por _propósito_, y por _alcance_"
   ]
  },
  {
   "cell_type": "markdown",
   "metadata": {},
   "source": [
    "### Categorías por _propósito_\n",
    "* Creacionales: se encargan de la instanciación de objetos\n",
    "* Comportamiento: caracterizan las formas en que los objetos y las clases interactúan entre sí y cómo distribuyen la responsabilidad\n",
    "* Estructurales: se encargan de cómo se componen las clases y los objetos"
   ]
  },
  {
   "cell_type": "markdown",
   "metadata": {},
   "source": [
    "### Categorías por _alcance_\n",
    "* Clase: especifican relaciones entre clases y sus clases hijas. Relación estática a través de la **herencia**\n",
    "* Objeto: especifican relaciones entre objetos, dichos objetos pueden ser cambiados en tiempo de ejecución. Resultados más dinámicos a través de la **composición** y **delegación**"
   ]
  },
  {
   "cell_type": "markdown",
   "metadata": {
    "collapsed": true
   },
   "source": [
    "## Conceptos de Python"
   ]
  },
  {
   "cell_type": "markdown",
   "metadata": {},
   "source": [
    "### Todo es un objeto\n",
    "* Todos los objetos en Python son *objetos de primera clase* (*first-class objects*)\n",
    "\n",
    "> In programming language design, a first-class citizen (also type, object, entity, or value) in a given programming language is an entity which supports all the operations generally available to other entities. These operations typically include being passed as an argument, returned from a function, modified, and assigned to a variable.\n",
    "\n",
    "[First-class citizen](https://en.wikipedia.org/wiki/First-class_citizen)\n",
    "\n",
    "### Closures\n",
    "* Una *clausura* (*closure*) es un objeto función que incluye tanto su código como su ambiente (*scope*) en el cual fue declarado\n",
    "\n",
    "\n",
    "[Closure](http://www.bogotobogo.com/python/python_closure.php)"
   ]
  },
  {
   "cell_type": "code",
   "execution_count": 2,
   "metadata": {},
   "outputs": [
    {
     "name": "stdout",
     "output_type": "stream",
     "text": [
      "lista = [1, 2, 3, 4, 5, 6, 7, 8, 9]\n",
      "cuadrados = [1, 4, 9, 16, 25, 36, 49, 64, 81]\n"
     ]
    }
   ],
   "source": [
    "def my_map(func, l):\n",
    "    \"\"\"Aplica una función a todos los elementos de una lista\"\"\"\n",
    "    ret = list()\n",
    "    for x in l:\n",
    "        ret.append(func(x))\n",
    "    return ret\n",
    "\n",
    "def square(x):\n",
    "    \"\"\"Devuelve el cuadrado de un número\"\"\"\n",
    "    return x*x\n",
    "\n",
    "# Números entre 1 y 10\n",
    "lista = list(range(1,10))\n",
    "\n",
    "print(\"lista = {}\".format(lista))\n",
    "\n",
    "# Conseguimos una nueva lista con todos los valores de 'lista' elevados al cuadrado\n",
    "# Le pasamos a 'my_map' el objeto función 'square'\n",
    "cuadrados = my_map(square, lista)\n",
    "\n",
    "print(\"cuadrados = {}\".format(cuadrados))"
   ]
  },
  {
   "cell_type": "markdown",
   "metadata": {},
   "source": [
    "### Patrones creacionales"
   ]
  },
  {
   "cell_type": "markdown",
   "metadata": {},
   "source": [
    "#### Borg (monoestado)\n",
    "Implementa un comportamiento *Singleton* (una única instancia de una clase). Instancia objetos distintos pero todos comparten el mismo estado\n",
    "\n",
    "Fuente: [Borg](https://github.com/faif/python-patterns/blob/master/creational/borg.py)"
   ]
  },
  {
   "cell_type": "code",
   "execution_count": 7,
   "metadata": {},
   "outputs": [
    {
     "name": "stdout",
     "output_type": "stream",
     "text": [
      "rm1: Running\n",
      "rm2: Running\n",
      "rm1: Zombie\n",
      "rm2: Zombie\n",
      "rm1 id: 140416582644512\n",
      "rm2 id: 140416582644624\n",
      "rm1: Zombie\n",
      "rm2: Zombie\n",
      "{'state': 'Zombie'}\n",
      "{'state': 'Zombie'}\n"
     ]
    }
   ],
   "source": [
    "class Borg(object):\n",
    "    __shared_state = {}\n",
    "\n",
    "    def __init__(self):\n",
    "        self.__dict__ = self.__shared_state\n",
    "        self.state = 'Init'\n",
    "\n",
    "    def __str__(self):\n",
    "        return self.state\n",
    "    \n",
    "    def show(self):\n",
    "        print(self.__dict__)\n",
    "\n",
    "\n",
    "rm1 = Borg()\n",
    "rm2 = Borg()\n",
    "\n",
    "rm1.state = 'Idle'\n",
    "rm2.state = 'Running'\n",
    "\n",
    "print('rm1: {0}'.format(rm1))\n",
    "print('rm2: {0}'.format(rm2))\n",
    "\n",
    "rm2.state = 'Zombie'\n",
    "\n",
    "print('rm1: {0}'.format(rm1))\n",
    "print('rm2: {0}'.format(rm2))\n",
    "\n",
    "print('rm1 id: {0}'.format(id(rm1)))\n",
    "print('rm2 id: {0}'.format(id(rm2)))\n",
    "\n",
    "print('rm1: {0}'.format(rm1))\n",
    "print('rm2: {0}'.format(rm2))\n",
    "\n",
    "rm1.show()\n",
    "rm2.show()"
   ]
  },
  {
   "cell_type": "markdown",
   "metadata": {},
   "source": [
    "#### Factory\n",
    "Define una nueva interfaz para instanciar objetos. Evita invocar al constructor del objeto directamente\n",
    "\n",
    "Fuente: [Factory](https://github.com/faif/python-patterns/blob/master/creational/factory_method.py)"
   ]
  },
  {
   "cell_type": "code",
   "execution_count": 11,
   "metadata": {},
   "outputs": [
    {
     "name": "stdout",
     "output_type": "stream",
     "text": [
      "dog -> σκύλος\n",
      "parrot -> parrot\n",
      "cat -> γάτα\n",
      "bear -> bear\n"
     ]
    }
   ],
   "source": [
    "class GreekGetter(object):\n",
    "\n",
    "    \"\"\"A simple localizer a la gettext\"\"\"\n",
    "\n",
    "    def __init__(self):\n",
    "        self.trans = dict(dog=\"σκύλος\", cat=\"γάτα\")\n",
    "\n",
    "    def get(self, msgid):\n",
    "        \"\"\"We'll punt if we don't have a translation\"\"\"\n",
    "        return self.trans.get(msgid, str(msgid))\n",
    "\n",
    "\n",
    "class EnglishGetter(object):\n",
    "\n",
    "    \"\"\"Simply echoes the msg ids\"\"\"\n",
    "\n",
    "    def get(self, msgid):\n",
    "        return str(msgid)\n",
    "\n",
    "\n",
    "def get_localizer(language=\"English\"):\n",
    "    \"\"\"The factory method\"\"\"\n",
    "    languages = dict(English=EnglishGetter, Greek=GreekGetter)\n",
    "    return languages[language]()\n",
    "\n",
    "\n",
    "# Create our localizers\n",
    "e, g = get_localizer(language=\"English\"), get_localizer(language=\"Greek\")\n",
    "# Localize some text\n",
    "for msgid in \"dog parrot cat bear\".split():\n",
    "    print(\"{} -> {}\".format(e.get(msgid), g.get(msgid)))"
   ]
  },
  {
   "cell_type": "code",
   "execution_count": null,
   "metadata": {
    "collapsed": true
   },
   "outputs": [],
   "source": []
  }
 ],
 "metadata": {
  "kernelspec": {
   "display_name": "Python 3",
   "language": "python",
   "name": "python3"
  },
  "language_info": {
   "codemirror_mode": {
    "name": "ipython",
    "version": 3
   },
   "file_extension": ".py",
   "mimetype": "text/x-python",
   "name": "python",
   "nbconvert_exporter": "python",
   "pygments_lexer": "ipython3",
   "version": "3.6.1"
  }
 },
 "nbformat": 4,
 "nbformat_minor": 2
}
